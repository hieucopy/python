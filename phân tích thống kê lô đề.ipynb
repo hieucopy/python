{
 "cells": [
  {
   "cell_type": "code",
   "execution_count": 30,
   "id": "1c9a5441",
   "metadata": {},
   "outputs": [],
   "source": [
    "from selenium import webdriver\n",
    "import time\n",
    "from selenium.webdriver.common.keys import Keys\n",
    "from selenium.webdriver.common.by import By\n",
    "import requests\n",
    "from bs4 import BeautifulSoup\n",
    "import csv\n",
    "from datetime import date, timedelta\n",
    "import pandas as pd\n",
    "import numpy as np\n",
    "import matplotlib.pyplot as plt"
   ]
  },
  {
   "cell_type": "code",
   "execution_count": 18,
   "id": "b54c0283",
   "metadata": {},
   "outputs": [],
   "source": [
    "driver=webdriver.Chrome()\n",
    "driver.get('https://www.thantai1.net/so-ket-qua')"
   ]
  },
  {
   "cell_type": "code",
   "execution_count": 9,
   "id": "01544991",
   "metadata": {},
   "outputs": [],
   "source": [
    "file=open('lode.csv', mode='w',encoding=\"utf-8\")"
   ]
  },
  {
   "cell_type": "code",
   "execution_count": 12,
   "id": "45ae7942",
   "metadata": {},
   "outputs": [],
   "source": [
    "def save_data():\n",
    "    \n",
    "    extend_field=driver.find_element(By.XPATH,'//*[@id=\"skq\"]/form/div[2]/div/button[9]')\n",
    "    extend_field.send_keys(Keys.ENTER)\n",
    "    time.sleep(3)\n",
    "    date_field=driver.find_element(By.XPATH,'//*[@id=\"end\"]')\n",
    "    date_field.send_keys()\n",
    "    soup= BeautifulSoup(driver.page_source)\n",
    "    list_table=soup.find_all('table', class_=\"table table-bordered table-striped table-sm\")\n",
    "    for table in list_table:\n",
    "        list_giai=table.find_all(\"tr\")\n",
    "        for giai_id, giai in enumerate(list_giai):\n",
    "            if  giai_id==9 or giai_id==0:\n",
    "                continue\n",
    "            row = giai.text.strip()\n",
    "            row=process(row)\n",
    "            row = row\n",
    "            file.write(row)\n",
    "   "
   ]
  },
  {
   "cell_type": "code",
   "execution_count": 13,
   "id": "00506824",
   "metadata": {},
   "outputs": [],
   "source": [
    "s=''\n",
    "def process(s):\n",
    "    if 'Đặc biệtĐB' in s:\n",
    "        return s[-2:]\n",
    "    elif 'Giải nhấtG1' in s :\n",
    "        return s[-2:]\n",
    "    elif 'Giải nhìG2' in s :\n",
    "        s=s.replace('Giải nhìG2', '')\n",
    "        s1=s[3:5]\n",
    "        s2=s[-2:]\n",
    "        s=s1+s2\n",
    "        return s\n",
    "    elif 'Giải baG3' in s :\n",
    "        s=s.replace('Giải baG3', '')\n",
    "        s1=''\n",
    "        for i in range(3,len(s),5):\n",
    "            s1=s1+s[i]+s[i+1]\n",
    "        return s1\n",
    "    elif 'Giải tưG4' in s :\n",
    "        s=s.replace('Giải tưG4', '')\n",
    "        s1=''\n",
    "        for i in range(2,len(s),4):\n",
    "            s1=s1+s[i]+s[i+1]\n",
    "        return s1\n",
    "    elif 'Giải nămG5' in s :\n",
    "        s=s.replace('Giải nămG5', '')\n",
    "        s1=''\n",
    "        for i in range(2,len(s),4):\n",
    "            s1=s1+s[i]+s[i+1]\n",
    "        return s1\n",
    "    elif 'Giải sáuG6' in s :\n",
    "        s=s.replace('Giải sáuG6', '')\n",
    "        s1=''\n",
    "        for i in range(1,len(s),3):\n",
    "            s1=s1+s[i]+s[i+1]\n",
    "        return s1\n",
    "    elif 'Giải bảyG7' in s :\n",
    "        s=s.replace('Giải bảyG7', '')\n",
    "        s1=''\n",
    "        for i in range(0,len(s),2):\n",
    "            s1=s1+s[i]+s[i+1]\n",
    "        return s1\n"
   ]
  },
  {
   "cell_type": "code",
   "execution_count": 19,
   "id": "038c829a",
   "metadata": {},
   "outputs": [],
   "source": [
    "\n",
    "\n",
    "today=date(2024,5,30)\n",
    "#today=today-timedelta(days=300)\n",
    "#\n",
    "for i in range (3):\n",
    "    save_data()\n",
    "    time.sleep(5)\n",
    "    date_field=driver.find_element(By.XPATH,'//*[@id=\"end\"]')\n",
    "    date_field.clear()\n",
    "    date_field.send_keys(today.strftime(\"%d/%m/%Y\"))\n",
    "    today=today-timedelta(days=300)\n",
    "    time.sleep(2)\n",
    "    date_field.send_keys(Keys.ENTER)"
   ]
  },
  {
   "cell_type": "code",
   "execution_count": 28,
   "id": "6d064d78",
   "metadata": {},
   "outputs": [],
   "source": [
    "with open('lode.csv', 'r') as file:\n",
    "    noi_dung = file.read()\n",
    "statis={}\n",
    "for i in range(0,len(noi_dung),2):\n",
    "    s=(noi_dung[i]+noi_dung[i+1])\n",
    "    if s in statis:\n",
    "        temp=statis[s]\n",
    "        temp=temp+1\n",
    "        statis[s]=temp\n",
    "    else:\n",
    "        statis[s]=1"
   ]
  },
  {
   "cell_type": "code",
   "execution_count": 34,
   "id": "c45659a1",
   "metadata": {},
   "outputs": [
    {
     "data": {
      "text/plain": [
       "<BarContainer object of 100 artists>"
      ]
     },
     "execution_count": 34,
     "metadata": {},
     "output_type": "execute_result"
    },
    {
     "data": {
      "image/png": "[encoded data removed]",
      "text/plain": [
       "<Figure size 640x480 with 1 Axes>"
      ]
     },
     "metadata": {},
     "output_type": "display_data"
    }
   ],
   "source": [
    "fig,ax= plt.subplots()\n",
    "ax.bar(statis.keys(),statis.values())"
   ]
  },
  {
   "cell_type": "code",
   "execution_count": 39,
   "id": "19666923",
   "metadata": {},
   "outputs": [
    {
     "data": {
      "text/plain": [
       "496"
      ]
     },
     "execution_count": 39,
     "metadata": {},
     "output_type": "execute_result"
    }
   ],
   "source": [
    "statis['99']"
   ]
  },
  {
   "cell_type": "code",
   "execution_count": null,
   "id": "e2d1d6db",
   "metadata": {},
   "outputs": [],
   "source": []
  }
 ],
 "metadata": {
  "kernelspec": {
   "display_name": "Python 3 (ipykernel)",
   "language": "python",
   "name": "python3"
  },
  "language_info": {
   "codemirror_mode": {
    "name": "ipython",
    "version": 3
   },
   "file_extension": ".py",
   "mimetype": "text/x-python",
   "name": "python",
   "nbconvert_exporter": "python",
   "pygments_lexer": "ipython3",
   "version": "3.11.5"
  }
 },
 "nbformat": 4,
 "nbformat_minor": 5
}
