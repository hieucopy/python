{
 "cells": [
  {
   "cell_type": "code",
   "execution_count": null,
   "id": "92b4cf25",
   "metadata": {},
   "outputs": [],
   "source": [
    "from selenium import webdriver\n",
    "import time\n",
    "from selenium.webdriver.common.keys import Keys\n",
    "from selenium.webdriver.common.by import By\n",
    "import requests\n",
    "from bs4 import BeautifulSoup\n",
    "import csv"
   ]
  },
  {
   "cell_type": "code",
   "execution_count": 67,
   "id": "367234fc",
   "metadata": {},
   "outputs": [],
   "source": [
    "driver=webdriver.Chrome()\n",
    "driver.get('https://coinmarketcap.com/')\n",
    "soup = BeautifulSoup(driver.page_source)\n",
    "header=soup.find_all('tr')\n",
    "file=open('data_coin_marketcaps.csv', mode='w')\n",
    "def collect():   \n",
    "    soup = BeautifulSoup(driver.page_source)\n",
    "    database=soup.find_all('tr')\n",
    "    for datas in database:\n",
    "        row=''\n",
    "        for data in datas:\n",
    "            row=row+data.text.strip()+' '\n",
    "        row.strip()\n",
    "        row=row+'\\n'\n",
    "        file.write(row)\n",
    "        \n",
    "i=0\n",
    "next_field=driver.find_element(By.XPATH,'//*[@id=\"__next\"]/div[2]/div[1]/div[2]/div/div[1]/div[6]/div[1]/div/ul/li[10]/a')\n",
    "while i<5:\n",
    "    \n",
    "    collect()\n",
    "    i=i+1\n",
    "    time.sleep(10)\n",
    "    next_field.send_keys(Keys.ENTER)\n",
    "    "
   ]
  },
  {
   "cell_type": "code",
   "execution_count": 61,
   "id": "8b459e83",
   "metadata": {},
   "outputs": [],
   "source": []
  },
  {
   "cell_type": "code",
   "execution_count": 62,
   "id": "9903c086",
   "metadata": {},
   "outputs": [],
   "source": []
  },
  {
   "cell_type": "code",
   "execution_count": null,
   "id": "c18ab72d",
   "metadata": {},
   "outputs": [],
   "source": []
  }
 ],
 "metadata": {
  "kernelspec": {
   "display_name": "Python 3 (ipykernel)",
   "language": "python",
   "name": "python3"
  },
  "language_info": {
   "codemirror_mode": {
    "name": "ipython",
    "version": 3
   },
   "file_extension": ".py",
   "mimetype": "text/x-python",
   "name": "python",
   "nbconvert_exporter": "python",
   "pygments_lexer": "ipython3",
   "version": "3.11.5"
  }
 },
 "nbformat": 4,
 "nbformat_minor": 5
}
